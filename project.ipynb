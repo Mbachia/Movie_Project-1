{
 "cells": [
  {
   "cell_type": "markdown",
   "metadata": {},
   "source": [
    "## 1.0 Business Understanding"
   ]
  },
  {
   "cell_type": "markdown",
   "metadata": {},
   "source": [
    "Microsoft, a global technology leader, is diversifying its portfolio by entering the entertainment industry through the creation of a new movie studio. This venture aims to leverage Microsoft's resources, reach, and creativity to produce original and engaging films to diversify their portolio."
   ]
  },
  {
   "cell_type": "markdown",
   "metadata": {},
   "source": [
    "# Domain of the Business"
   ]
  },
  {
   "cell_type": "markdown",
   "metadata": {},
   "source": [
    "The domain of this business venture is the film and entertainment industry. Microsoft intends to produce, distribute, and promote movies for theatrical release and streaming platforms. "
   ]
  },
  {
   "cell_type": "markdown",
   "metadata": {},
   "source": [
    "# Business Objective"
   ]
  },
  {
   "cell_type": "markdown",
   "metadata": {},
   "source": [
    "To establish a successful movie studio producing films that entertain, engage, and resonate with diverse audiences while generating revenue."
   ]
  },
  {
   "cell_type": "markdown",
   "metadata": {},
   "source": [
    "# Data Understanding"
   ]
  },
  {
   "cell_type": "markdown",
   "metadata": {},
   "source": [
    "This dataset comprises two main tables. The first table has 6 columns. These columns provide information about various movies, including their titles, release years, durations, genres, and ratings.\n",
    "\n",
    "The second dataset contains 6 columns. This table focuses on financial aspects, including production budgets, domestic and worldwide gross earnings, and release dates.\n",
    "\n",
    "The analysis contains the following:\n",
    "1. Business Understanding\n",
    "2. Importing libraries and datasets\n",
    "3. Previewing the datasets\n",
    "4. Data Cleaning\n",
    "5. Exploratory data analysis(Univeriate, Bivariate and Multivariate)\n",
    "6. Summary\n",
    "7. Recommendations"
   ]
  },
  {
   "cell_type": "markdown",
   "metadata": {},
   "source": [
    "## 2.0 Importing Data"
   ]
  },
  {
   "cell_type": "code",
   "execution_count": 14,
   "metadata": {},
   "outputs": [],
   "source": [
    "# We begin by importing the relevant libraries that will be used\n",
    "import pandas as pd\n",
    "import matplotlib.pyplot as plt\n",
    "import sqlite3\n",
    "import seaborn as sns"
   ]
  },
  {
   "cell_type": "markdown",
   "metadata": {},
   "source": [
    "To Import Data we will first define a function which will simplify importation"
   ]
  },
  {
   "cell_type": "code",
   "execution_count": 15,
   "metadata": {},
   "outputs": [],
   "source": [
    "def import_data (file_path, delimiter=',',encoding=None):\n",
    "    \"\"\"\n",
    "    Import data from a file into a Pandas DataFrame.\n",
    "\n",
    "    Parameters:\n",
    "        file_path (str): The path to the data file to be imported.\n",
    "        delimiter (str): The delimiter used to separate values in the file (default is ',').\n",
    "        encoding (str): The character encoding to be used when reading the file (default is None).\n",
    "\n",
    "    Returns:\n",
    "        pd.DataFrame: A Pandas DataFrame containing the imported data.\n",
    "\n",
    "    Raises:\n",
    "        ValueError: You are using an invalid delimiter.\n",
    "    \"\"\"\n",
    "    if delimiter == ',':\n",
    "        return pd.read_csv(file_path,encoding=encoding)\n",
    "    elif delimiter == '\\t':\n",
    "        return pd.read_csv(file_path,delimiter='\\t',encoding=encoding)\n",
    "    else:\n",
    "        return print(\"You are using an invalid delimiter\")\n"
   ]
  },
  {
   "cell_type": "code",
   "execution_count": 16,
   "metadata": {},
   "outputs": [],
   "source": [
    "imdb_path = r'C:\\Users\\espym.LAPTOP-41F90NSA\\Desktop\\zippedData\\im.db\\im.db'\n",
    "conn = sqlite3.connect(imdb_path)\n"
   ]
  },
  {
   "cell_type": "code",
   "execution_count": 17,
   "metadata": {},
   "outputs": [],
   "source": [
    "file_path2 = r'C:\\Users\\espym.LAPTOP-41F90NSA\\Desktop\\zippedData\\tn.movie_budgets.csv.gz'\n",
    "tn_movieDF = import_data(file_path2)"
   ]
  },
  {
   "cell_type": "markdown",
   "metadata": {},
   "source": [
    "## 3.0 Preview of Information in the data"
   ]
  },
  {
   "cell_type": "markdown",
   "metadata": {},
   "source": [
    "Here we just want to have a look at whats contained in the IMDB dataset and just have a proper feel of whats contained in the dataset"
   ]
  },
  {
   "cell_type": "code",
   "execution_count": 18,
   "metadata": {},
   "outputs": [
    {
     "data": {
      "text/html": [
       "<div>\n",
       "<style scoped>\n",
       "    .dataframe tbody tr th:only-of-type {\n",
       "        vertical-align: middle;\n",
       "    }\n",
       "\n",
       "    .dataframe tbody tr th {\n",
       "        vertical-align: top;\n",
       "    }\n",
       "\n",
       "    .dataframe thead th {\n",
       "        text-align: right;\n",
       "    }\n",
       "</style>\n",
       "<table border=\"1\" class=\"dataframe\">\n",
       "  <thead>\n",
       "    <tr style=\"text-align: right;\">\n",
       "      <th></th>\n",
       "      <th>Table_Name</th>\n",
       "    </tr>\n",
       "  </thead>\n",
       "  <tbody>\n",
       "    <tr>\n",
       "      <th>0</th>\n",
       "      <td>movie_basics</td>\n",
       "    </tr>\n",
       "    <tr>\n",
       "      <th>1</th>\n",
       "      <td>directors</td>\n",
       "    </tr>\n",
       "    <tr>\n",
       "      <th>2</th>\n",
       "      <td>known_for</td>\n",
       "    </tr>\n",
       "    <tr>\n",
       "      <th>3</th>\n",
       "      <td>movie_akas</td>\n",
       "    </tr>\n",
       "    <tr>\n",
       "      <th>4</th>\n",
       "      <td>movie_ratings</td>\n",
       "    </tr>\n",
       "    <tr>\n",
       "      <th>5</th>\n",
       "      <td>persons</td>\n",
       "    </tr>\n",
       "    <tr>\n",
       "      <th>6</th>\n",
       "      <td>principals</td>\n",
       "    </tr>\n",
       "    <tr>\n",
       "      <th>7</th>\n",
       "      <td>writers</td>\n",
       "    </tr>\n",
       "  </tbody>\n",
       "</table>\n",
       "</div>"
      ],
      "text/plain": [
       "      Table_Name\n",
       "0   movie_basics\n",
       "1      directors\n",
       "2      known_for\n",
       "3     movie_akas\n",
       "4  movie_ratings\n",
       "5        persons\n",
       "6     principals\n",
       "7        writers"
      ]
     },
     "execution_count": 18,
     "metadata": {},
     "output_type": "execute_result"
    }
   ],
   "source": [
    "#from the imdb database we first want to know the names and number of the tables.\n",
    "query0 = (\"\"\"\n",
    "    SELECT name\n",
    "    AS 'Table_Name'\n",
    "    FROM sqlite_master\n",
    "    WHERE type = 'table'\n",
    ";\n",
    "\"\"\")\n",
    "pd.read_sql(query0,conn)"
   ]
  },
  {
   "cell_type": "code",
   "execution_count": 19,
   "metadata": {},
   "outputs": [
    {
     "data": {
      "text/html": [
       "<div>\n",
       "<style scoped>\n",
       "    .dataframe tbody tr th:only-of-type {\n",
       "        vertical-align: middle;\n",
       "    }\n",
       "\n",
       "    .dataframe tbody tr th {\n",
       "        vertical-align: top;\n",
       "    }\n",
       "\n",
       "    .dataframe thead th {\n",
       "        text-align: right;\n",
       "    }\n",
       "</style>\n",
       "<table border=\"1\" class=\"dataframe\">\n",
       "  <thead>\n",
       "    <tr style=\"text-align: right;\">\n",
       "      <th></th>\n",
       "      <th>movie_id</th>\n",
       "      <th>primary_title</th>\n",
       "      <th>original_title</th>\n",
       "      <th>start_year</th>\n",
       "      <th>runtime_minutes</th>\n",
       "      <th>genres</th>\n",
       "    </tr>\n",
       "  </thead>\n",
       "  <tbody>\n",
       "    <tr>\n",
       "      <th>0</th>\n",
       "      <td>tt0063540</td>\n",
       "      <td>Sunghursh</td>\n",
       "      <td>Sunghursh</td>\n",
       "      <td>2013</td>\n",
       "      <td>175.0</td>\n",
       "      <td>Action,Crime,Drama</td>\n",
       "    </tr>\n",
       "    <tr>\n",
       "      <th>1</th>\n",
       "      <td>tt0066787</td>\n",
       "      <td>One Day Before the Rainy Season</td>\n",
       "      <td>Ashad Ka Ek Din</td>\n",
       "      <td>2019</td>\n",
       "      <td>114.0</td>\n",
       "      <td>Biography,Drama</td>\n",
       "    </tr>\n",
       "    <tr>\n",
       "      <th>2</th>\n",
       "      <td>tt0069049</td>\n",
       "      <td>The Other Side of the Wind</td>\n",
       "      <td>The Other Side of the Wind</td>\n",
       "      <td>2018</td>\n",
       "      <td>122.0</td>\n",
       "      <td>Drama</td>\n",
       "    </tr>\n",
       "    <tr>\n",
       "      <th>3</th>\n",
       "      <td>tt0069204</td>\n",
       "      <td>Sabse Bada Sukh</td>\n",
       "      <td>Sabse Bada Sukh</td>\n",
       "      <td>2018</td>\n",
       "      <td>NaN</td>\n",
       "      <td>Comedy,Drama</td>\n",
       "    </tr>\n",
       "    <tr>\n",
       "      <th>4</th>\n",
       "      <td>tt0100275</td>\n",
       "      <td>The Wandering Soap Opera</td>\n",
       "      <td>La Telenovela Errante</td>\n",
       "      <td>2017</td>\n",
       "      <td>80.0</td>\n",
       "      <td>Comedy,Drama,Fantasy</td>\n",
       "    </tr>\n",
       "  </tbody>\n",
       "</table>\n",
       "</div>"
      ],
      "text/plain": [
       "    movie_id                    primary_title              original_title  \\\n",
       "0  tt0063540                        Sunghursh                   Sunghursh   \n",
       "1  tt0066787  One Day Before the Rainy Season             Ashad Ka Ek Din   \n",
       "2  tt0069049       The Other Side of the Wind  The Other Side of the Wind   \n",
       "3  tt0069204                  Sabse Bada Sukh             Sabse Bada Sukh   \n",
       "4  tt0100275         The Wandering Soap Opera       La Telenovela Errante   \n",
       "\n",
       "   start_year  runtime_minutes                genres  \n",
       "0        2013            175.0    Action,Crime,Drama  \n",
       "1        2019            114.0       Biography,Drama  \n",
       "2        2018            122.0                 Drama  \n",
       "3        2018              NaN          Comedy,Drama  \n",
       "4        2017             80.0  Comedy,Drama,Fantasy  "
      ]
     },
     "execution_count": 19,
     "metadata": {},
     "output_type": "execute_result"
    }
   ],
   "source": [
    "# checking for the information contained in the movie basics table\n",
    "query1 = (\"\"\"\n",
    "    SELECT * \n",
    "    FROM movie_basics\n",
    "    ;\n",
    "          \"\"\")\n",
    "df = pd.read_sql(query1,conn)\n",
    "df.head()"
   ]
  },
  {
   "cell_type": "markdown",
   "metadata": {},
   "source": [
    "To get the preview of information from the data in a simplified way, we will define another function that will help do so"
   ]
  },
  {
   "cell_type": "code",
   "execution_count": 20,
   "metadata": {},
   "outputs": [],
   "source": [
    "def dataframe_preview(df):\n",
    "    #To get the shape of the dataframe\n",
    "    print(\"The shape of the dataframe:\")\n",
    "    print(df.shape)\n",
    "    print('\\n')\n",
    "    #To get the info of the dataframe\n",
    "    print(\"The data in the dataframe:\")\n",
    "    print(df.info())\n",
    "    print('\\n')\n",
    "    #To get the descriptive statistics of the dataframe\n",
    "    print(\"The descriptive stats of the df:\")\n",
    "    print(df.describe())\n",
    "    #To get the columns of the dataframe\n",
    "    print(\"The columns of the dataframe are:\")\n",
    "    print(df.columns)\n"
   ]
  },
  {
   "cell_type": "code",
   "execution_count": 21,
   "metadata": {},
   "outputs": [
    {
     "name": "stdout",
     "output_type": "stream",
     "text": [
      "The shape of the dataframe:\n",
      "(146144, 6)\n",
      "\n",
      "\n",
      "The data in the dataframe:\n",
      "<class 'pandas.core.frame.DataFrame'>\n",
      "RangeIndex: 146144 entries, 0 to 146143\n",
      "Data columns (total 6 columns):\n",
      " #   Column           Non-Null Count   Dtype  \n",
      "---  ------           --------------   -----  \n",
      " 0   movie_id         146144 non-null  object \n",
      " 1   primary_title    146144 non-null  object \n",
      " 2   original_title   146123 non-null  object \n",
      " 3   start_year       146144 non-null  int64  \n",
      " 4   runtime_minutes  114405 non-null  float64\n",
      " 5   genres           140736 non-null  object \n",
      "dtypes: float64(1), int64(1), object(4)\n",
      "memory usage: 6.7+ MB\n",
      "None\n",
      "\n",
      "\n",
      "The descriptive stats of the df:\n",
      "          start_year  runtime_minutes\n",
      "count  146144.000000    114405.000000\n",
      "mean     2014.621798        86.187247\n",
      "std         2.733583       166.360590\n",
      "min      2010.000000         1.000000\n",
      "25%      2012.000000        70.000000\n",
      "50%      2015.000000        87.000000\n",
      "75%      2017.000000        99.000000\n",
      "max      2115.000000     51420.000000\n",
      "The columns of the dataframe are:\n",
      "Index(['movie_id', 'primary_title', 'original_title', 'start_year',\n",
      "       'runtime_minutes', 'genres'],\n",
      "      dtype='object')\n"
     ]
    }
   ],
   "source": [
    "dataframe_preview(df)"
   ]
  },
  {
   "cell_type": "markdown",
   "metadata": {},
   "source": [
    "Now that we have a feel of the movie_basics, well also explore movie_ratings table"
   ]
  },
  {
   "cell_type": "code",
   "execution_count": 22,
   "metadata": {},
   "outputs": [
    {
     "data": {
      "text/html": [
       "<div>\n",
       "<style scoped>\n",
       "    .dataframe tbody tr th:only-of-type {\n",
       "        vertical-align: middle;\n",
       "    }\n",
       "\n",
       "    .dataframe tbody tr th {\n",
       "        vertical-align: top;\n",
       "    }\n",
       "\n",
       "    .dataframe thead th {\n",
       "        text-align: right;\n",
       "    }\n",
       "</style>\n",
       "<table border=\"1\" class=\"dataframe\">\n",
       "  <thead>\n",
       "    <tr style=\"text-align: right;\">\n",
       "      <th></th>\n",
       "      <th>movie_id</th>\n",
       "      <th>averagerating</th>\n",
       "      <th>numvotes</th>\n",
       "    </tr>\n",
       "  </thead>\n",
       "  <tbody>\n",
       "    <tr>\n",
       "      <th>0</th>\n",
       "      <td>tt10356526</td>\n",
       "      <td>8.3</td>\n",
       "      <td>31</td>\n",
       "    </tr>\n",
       "    <tr>\n",
       "      <th>1</th>\n",
       "      <td>tt10384606</td>\n",
       "      <td>8.9</td>\n",
       "      <td>559</td>\n",
       "    </tr>\n",
       "    <tr>\n",
       "      <th>2</th>\n",
       "      <td>tt1042974</td>\n",
       "      <td>6.4</td>\n",
       "      <td>20</td>\n",
       "    </tr>\n",
       "    <tr>\n",
       "      <th>3</th>\n",
       "      <td>tt1043726</td>\n",
       "      <td>4.2</td>\n",
       "      <td>50352</td>\n",
       "    </tr>\n",
       "    <tr>\n",
       "      <th>4</th>\n",
       "      <td>tt1060240</td>\n",
       "      <td>6.5</td>\n",
       "      <td>21</td>\n",
       "    </tr>\n",
       "  </tbody>\n",
       "</table>\n",
       "</div>"
      ],
      "text/plain": [
       "     movie_id  averagerating  numvotes\n",
       "0  tt10356526            8.3        31\n",
       "1  tt10384606            8.9       559\n",
       "2   tt1042974            6.4        20\n",
       "3   tt1043726            4.2     50352\n",
       "4   tt1060240            6.5        21"
      ]
     },
     "execution_count": 22,
     "metadata": {},
     "output_type": "execute_result"
    }
   ],
   "source": [
    "query2 = (\"\"\"\n",
    "    SELECT * \n",
    "    FROM movie_ratings\n",
    "    ;\n",
    "        \"\"\")\n",
    "df2 = pd.read_sql(query2,conn)\n",
    "df2.head()"
   ]
  },
  {
   "cell_type": "code",
   "execution_count": 23,
   "metadata": {},
   "outputs": [
    {
     "name": "stdout",
     "output_type": "stream",
     "text": [
      "The shape of the dataframe:\n",
      "(73856, 3)\n",
      "\n",
      "\n",
      "The data in the dataframe:\n",
      "<class 'pandas.core.frame.DataFrame'>\n",
      "RangeIndex: 73856 entries, 0 to 73855\n",
      "Data columns (total 3 columns):\n",
      " #   Column         Non-Null Count  Dtype  \n",
      "---  ------         --------------  -----  \n",
      " 0   movie_id       73856 non-null  object \n",
      " 1   averagerating  73856 non-null  float64\n",
      " 2   numvotes       73856 non-null  int64  \n",
      "dtypes: float64(1), int64(1), object(1)\n",
      "memory usage: 1.7+ MB\n",
      "None\n",
      "\n",
      "\n",
      "The descriptive stats of the df:\n",
      "       averagerating      numvotes\n",
      "count   73856.000000  7.385600e+04\n",
      "mean        6.332729  3.523662e+03\n",
      "std         1.474978  3.029402e+04\n",
      "min         1.000000  5.000000e+00\n",
      "25%         5.500000  1.400000e+01\n",
      "50%         6.500000  4.900000e+01\n",
      "75%         7.400000  2.820000e+02\n",
      "max        10.000000  1.841066e+06\n",
      "The columns of the dataframe are:\n",
      "Index(['movie_id', 'averagerating', 'numvotes'], dtype='object')\n"
     ]
    }
   ],
   "source": [
    "#We will call the function dataframe preview to view the info in the dataframe\n",
    "dataframe_preview(df2)"
   ]
  },
  {
   "cell_type": "code",
   "execution_count": 24,
   "metadata": {},
   "outputs": [
    {
     "name": "stdout",
     "output_type": "stream",
     "text": [
      "The shape of the dataframe:\n",
      "(5782, 6)\n",
      "\n",
      "\n",
      "The data in the dataframe:\n",
      "<class 'pandas.core.frame.DataFrame'>\n",
      "RangeIndex: 5782 entries, 0 to 5781\n",
      "Data columns (total 6 columns):\n",
      " #   Column             Non-Null Count  Dtype \n",
      "---  ------             --------------  ----- \n",
      " 0   id                 5782 non-null   int64 \n",
      " 1   release_date       5782 non-null   object\n",
      " 2   movie              5782 non-null   object\n",
      " 3   production_budget  5782 non-null   object\n",
      " 4   domestic_gross     5782 non-null   object\n",
      " 5   worldwide_gross    5782 non-null   object\n",
      "dtypes: int64(1), object(5)\n",
      "memory usage: 271.2+ KB\n",
      "None\n",
      "\n",
      "\n",
      "The descriptive stats of the df:\n",
      "                id\n",
      "count  5782.000000\n",
      "mean     50.372363\n",
      "std      28.821076\n",
      "min       1.000000\n",
      "25%      25.000000\n",
      "50%      50.000000\n",
      "75%      75.000000\n",
      "max     100.000000\n",
      "The columns of the dataframe are:\n",
      "Index(['id', 'release_date', 'movie', 'production_budget', 'domestic_gross',\n",
      "       'worldwide_gross'],\n",
      "      dtype='object')\n"
     ]
    }
   ],
   "source": [
    "#Now to preview info from the last dataset we will be using\n",
    "dataframe_preview(tn_movieDF)"
   ]
  },
  {
   "cell_type": "code",
   "execution_count": 25,
   "metadata": {},
   "outputs": [
    {
     "data": {
      "text/html": [
       "<div>\n",
       "<style scoped>\n",
       "    .dataframe tbody tr th:only-of-type {\n",
       "        vertical-align: middle;\n",
       "    }\n",
       "\n",
       "    .dataframe tbody tr th {\n",
       "        vertical-align: top;\n",
       "    }\n",
       "\n",
       "    .dataframe thead th {\n",
       "        text-align: right;\n",
       "    }\n",
       "</style>\n",
       "<table border=\"1\" class=\"dataframe\">\n",
       "  <thead>\n",
       "    <tr style=\"text-align: right;\">\n",
       "      <th></th>\n",
       "      <th>id</th>\n",
       "      <th>release_date</th>\n",
       "      <th>movie</th>\n",
       "      <th>production_budget</th>\n",
       "      <th>domestic_gross</th>\n",
       "      <th>worldwide_gross</th>\n",
       "    </tr>\n",
       "  </thead>\n",
       "  <tbody>\n",
       "    <tr>\n",
       "      <th>0</th>\n",
       "      <td>1</td>\n",
       "      <td>Dec 18, 2009</td>\n",
       "      <td>Avatar</td>\n",
       "      <td>$425,000,000</td>\n",
       "      <td>$760,507,625</td>\n",
       "      <td>$2,776,345,279</td>\n",
       "    </tr>\n",
       "    <tr>\n",
       "      <th>1</th>\n",
       "      <td>2</td>\n",
       "      <td>May 20, 2011</td>\n",
       "      <td>Pirates of the Caribbean: On Stranger Tides</td>\n",
       "      <td>$410,600,000</td>\n",
       "      <td>$241,063,875</td>\n",
       "      <td>$1,045,663,875</td>\n",
       "    </tr>\n",
       "    <tr>\n",
       "      <th>2</th>\n",
       "      <td>3</td>\n",
       "      <td>Jun 7, 2019</td>\n",
       "      <td>Dark Phoenix</td>\n",
       "      <td>$350,000,000</td>\n",
       "      <td>$42,762,350</td>\n",
       "      <td>$149,762,350</td>\n",
       "    </tr>\n",
       "    <tr>\n",
       "      <th>3</th>\n",
       "      <td>4</td>\n",
       "      <td>May 1, 2015</td>\n",
       "      <td>Avengers: Age of Ultron</td>\n",
       "      <td>$330,600,000</td>\n",
       "      <td>$459,005,868</td>\n",
       "      <td>$1,403,013,963</td>\n",
       "    </tr>\n",
       "    <tr>\n",
       "      <th>4</th>\n",
       "      <td>5</td>\n",
       "      <td>Dec 15, 2017</td>\n",
       "      <td>Star Wars Ep. VIII: The Last Jedi</td>\n",
       "      <td>$317,000,000</td>\n",
       "      <td>$620,181,382</td>\n",
       "      <td>$1,316,721,747</td>\n",
       "    </tr>\n",
       "  </tbody>\n",
       "</table>\n",
       "</div>"
      ],
      "text/plain": [
       "   id  release_date                                        movie  \\\n",
       "0   1  Dec 18, 2009                                       Avatar   \n",
       "1   2  May 20, 2011  Pirates of the Caribbean: On Stranger Tides   \n",
       "2   3   Jun 7, 2019                                 Dark Phoenix   \n",
       "3   4   May 1, 2015                      Avengers: Age of Ultron   \n",
       "4   5  Dec 15, 2017            Star Wars Ep. VIII: The Last Jedi   \n",
       "\n",
       "  production_budget domestic_gross worldwide_gross  \n",
       "0      $425,000,000   $760,507,625  $2,776,345,279  \n",
       "1      $410,600,000   $241,063,875  $1,045,663,875  \n",
       "2      $350,000,000    $42,762,350    $149,762,350  \n",
       "3      $330,600,000   $459,005,868  $1,403,013,963  \n",
       "4      $317,000,000   $620,181,382  $1,316,721,747  "
      ]
     },
     "execution_count": 25,
     "metadata": {},
     "output_type": "execute_result"
    }
   ],
   "source": [
    "# Checking the first five rows of the dataset\n",
    "tn_movieDF.head()"
   ]
  },
  {
   "cell_type": "markdown",
   "metadata": {},
   "source": [
    "## 4.0 Data Cleaning"
   ]
  },
  {
   "cell_type": "markdown",
   "metadata": {},
   "source": [
    "Now that we have a feeling of the data, we will now combine the two tables i.e movie_basics and movie_ratings using their primary key movie_id"
   ]
  },
  {
   "cell_type": "code",
   "execution_count": 26,
   "metadata": {},
   "outputs": [],
   "source": [
    "#Joining the tables using the movie_id column\n",
    "query3 = (\"\"\"\n",
    "SELECT movie_id, primary_title,start_year,runtime_minutes,genres,averagerating AS 'movie_rating',numvotes\n",
    "FROM movie_basics\n",
    "JOIN movie_ratings\n",
    "USING (movie_id)\n",
    ";\n",
    "\"\"\")\n",
    "df = pd.read_sql(query3,conn)"
   ]
  },
  {
   "cell_type": "code",
   "execution_count": 27,
   "metadata": {},
   "outputs": [
    {
     "name": "stdout",
     "output_type": "stream",
     "text": [
      "The shape of the dataframe:\n",
      "(73856, 7)\n",
      "\n",
      "\n",
      "The data in the dataframe:\n",
      "<class 'pandas.core.frame.DataFrame'>\n",
      "RangeIndex: 73856 entries, 0 to 73855\n",
      "Data columns (total 7 columns):\n",
      " #   Column           Non-Null Count  Dtype  \n",
      "---  ------           --------------  -----  \n",
      " 0   movie_id         73856 non-null  object \n",
      " 1   primary_title    73856 non-null  object \n",
      " 2   start_year       73856 non-null  int64  \n",
      " 3   runtime_minutes  66236 non-null  float64\n",
      " 4   genres           73052 non-null  object \n",
      " 5   movie_rating     73856 non-null  float64\n",
      " 6   numvotes         73856 non-null  int64  \n",
      "dtypes: float64(2), int64(2), object(3)\n",
      "memory usage: 3.9+ MB\n",
      "None\n",
      "\n",
      "\n",
      "The descriptive stats of the df:\n",
      "         start_year  runtime_minutes  movie_rating      numvotes\n",
      "count  73856.000000     66236.000000  73856.000000  7.385600e+04\n",
      "mean    2014.276132        94.654040      6.332729  3.523662e+03\n",
      "std        2.614807       208.574111      1.474978  3.029402e+04\n",
      "min     2010.000000         3.000000      1.000000  5.000000e+00\n",
      "25%     2012.000000        81.000000      5.500000  1.400000e+01\n",
      "50%     2014.000000        91.000000      6.500000  4.900000e+01\n",
      "75%     2016.000000       104.000000      7.400000  2.820000e+02\n",
      "max     2019.000000     51420.000000     10.000000  1.841066e+06\n",
      "The columns of the dataframe are:\n",
      "Index(['movie_id', 'primary_title', 'start_year', 'runtime_minutes', 'genres',\n",
      "       'movie_rating', 'numvotes'],\n",
      "      dtype='object')\n"
     ]
    }
   ],
   "source": [
    "dataframe_preview(df)"
   ]
  },
  {
   "cell_type": "markdown",
   "metadata": {},
   "source": [
    "We will now go ahead and clean the dataset to remove the missing values in the dataframe. The columns runtime_minutes and genres appear to having missing values"
   ]
  },
  {
   "cell_type": "code",
   "execution_count": 28,
   "metadata": {},
   "outputs": [],
   "source": [
    "#We first define a function to find the missing values\n",
    "def missing_values(df):\n",
    "    print(df.isnull().sum())"
   ]
  },
  {
   "cell_type": "code",
   "execution_count": 29,
   "metadata": {},
   "outputs": [
    {
     "name": "stdout",
     "output_type": "stream",
     "text": [
      "movie_id              0\n",
      "primary_title         0\n",
      "start_year            0\n",
      "runtime_minutes    7620\n",
      "genres              804\n",
      "movie_rating          0\n",
      "numvotes              0\n",
      "dtype: int64\n"
     ]
    }
   ],
   "source": [
    "#checking for the sum of null values\n",
    "missing_values(df)"
   ]
  },
  {
   "cell_type": "code",
   "execution_count": 30,
   "metadata": {},
   "outputs": [
    {
     "name": "stdout",
     "output_type": "stream",
     "text": [
      "movie_id              0\n",
      "primary_title         0\n",
      "start_year            0\n",
      "runtime_minutes    7620\n",
      "genres              804\n",
      "movie_rating          0\n",
      "numvotes              0\n",
      "dtype: int64\n",
      "The non null values in the dataset are: 73856\n"
     ]
    }
   ],
   "source": [
    "#checking for all the values\n",
    "null_count = df.isnull().sum()\n",
    "non_null_count = df.shape[0]\n",
    "print(null_count)\n",
    "print(\"The non null values in the dataset are:\", non_null_count)"
   ]
  },
  {
   "cell_type": "code",
   "execution_count": 31,
   "metadata": {},
   "outputs": [
    {
     "name": "stdout",
     "output_type": "stream",
     "text": [
      "movie_id            0.000000\n",
      "primary_title       0.000000\n",
      "start_year          0.000000\n",
      "runtime_minutes    10.317374\n",
      "genres              1.088605\n",
      "movie_rating        0.000000\n",
      "numvotes            0.000000\n",
      "dtype: float64\n"
     ]
    }
   ],
   "source": [
    "#checking the percentage of the null values to determine if to drop them\n",
    "null_percentage = (null_count / non_null_count) * 100\n",
    "print(null_percentage)"
   ]
  },
  {
   "cell_type": "code",
   "execution_count": 32,
   "metadata": {},
   "outputs": [
    {
     "data": {
      "text/plain": [
       "(65720, 7)"
      ]
     },
     "execution_count": 32,
     "metadata": {},
     "output_type": "execute_result"
    }
   ],
   "source": [
    "#The null values take a minimal percentage of the total values and can be droppped\n",
    "df.dropna(inplace=True)\n",
    "df.shape"
   ]
  },
  {
   "cell_type": "code",
   "execution_count": 33,
   "metadata": {},
   "outputs": [
    {
     "name": "stdout",
     "output_type": "stream",
     "text": [
      "id                   0\n",
      "release_date         0\n",
      "movie                0\n",
      "production_budget    0\n",
      "domestic_gross       0\n",
      "worldwide_gross      0\n",
      "dtype: int64\n"
     ]
    }
   ],
   "source": [
    "#checking null values in the other dataframe\n",
    "budgetDF = tn_movieDF\n",
    "missing_values(budgetDF)"
   ]
  },
  {
   "cell_type": "markdown",
   "metadata": {},
   "source": [
    "The budget dataframe contains no null values"
   ]
  },
  {
   "cell_type": "markdown",
   "metadata": {},
   "source": [
    "Checking for duplicates \n"
   ]
  },
  {
   "cell_type": "code",
   "execution_count": 34,
   "metadata": {},
   "outputs": [],
   "source": [
    "#we first define a function that will check for duplicated values in both dataframes\n",
    "def duplicated_values(df):\n",
    "    print(\"The duplicated values are:\")\n",
    "    print(df.duplicated().sum())"
   ]
  },
  {
   "cell_type": "code",
   "execution_count": 35,
   "metadata": {},
   "outputs": [
    {
     "name": "stdout",
     "output_type": "stream",
     "text": [
      "The duplicated values are:\n",
      "0\n"
     ]
    }
   ],
   "source": [
    "#Checking for duplicates in the first dataframe\n",
    "duplicated_values(df)"
   ]
  },
  {
   "cell_type": "code",
   "execution_count": 36,
   "metadata": {},
   "outputs": [
    {
     "name": "stdout",
     "output_type": "stream",
     "text": [
      "The duplicated values are:\n",
      "0\n"
     ]
    }
   ],
   "source": [
    "#checking for duplicates in the second dataframe\n",
    "duplicated_values(budgetDF)"
   ]
  },
  {
   "cell_type": "markdown",
   "metadata": {},
   "source": [
    "From both datasets there are no duplicated values"
   ]
  },
  {
   "cell_type": "markdown",
   "metadata": {},
   "source": [
    "Conversion of datatypes"
   ]
  },
  {
   "cell_type": "code",
   "execution_count": 37,
   "metadata": {},
   "outputs": [
    {
     "name": "stdout",
     "output_type": "stream",
     "text": [
      "<class 'pandas.core.frame.DataFrame'>\n",
      "RangeIndex: 5782 entries, 0 to 5781\n",
      "Data columns (total 6 columns):\n",
      " #   Column             Non-Null Count  Dtype \n",
      "---  ------             --------------  ----- \n",
      " 0   id                 5782 non-null   int64 \n",
      " 1   release_date       5782 non-null   object\n",
      " 2   movie              5782 non-null   object\n",
      " 3   production_budget  5782 non-null   object\n",
      " 4   domestic_gross     5782 non-null   object\n",
      " 5   worldwide_gross    5782 non-null   object\n",
      "dtypes: int64(1), object(5)\n",
      "memory usage: 271.2+ KB\n"
     ]
    }
   ],
   "source": [
    "# We use the mothod .info() to grasp the data types in the dataframe\n",
    "budgetDF.info()"
   ]
  },
  {
   "cell_type": "markdown",
   "metadata": {},
   "source": [
    "The prodution_budget,domestic_gross and worldwide_gross are denoted as objects and we need them as float in order to mathematical computations\n"
   ]
  },
  {
   "cell_type": "code",
   "execution_count": 38,
   "metadata": {},
   "outputs": [],
   "source": [
    "#Conversion of The prodution_budget,domestic_gross and worldwide_gross to float\n",
    "budgetDF['production_budget'] = budgetDF['production_budget'].str.replace('$', '').str.replace(',', '').astype(float)\n",
    "budgetDF['domestic_gross'] = budgetDF['domestic_gross'].str.replace('$', '').str.replace(',', '').astype(float)\n",
    "budgetDF['worldwide_gross'] = budgetDF['worldwide_gross'].str.replace('$', '').str.replace(',', '').astype(float)"
   ]
  },
  {
   "cell_type": "markdown",
   "metadata": {},
   "source": [
    "Checking for data consistency"
   ]
  },
  {
   "cell_type": "code",
   "execution_count": 39,
   "metadata": {},
   "outputs": [
    {
     "data": {
      "text/html": [
       "<div>\n",
       "<style scoped>\n",
       "    .dataframe tbody tr th:only-of-type {\n",
       "        vertical-align: middle;\n",
       "    }\n",
       "\n",
       "    .dataframe tbody tr th {\n",
       "        vertical-align: top;\n",
       "    }\n",
       "\n",
       "    .dataframe thead th {\n",
       "        text-align: right;\n",
       "    }\n",
       "</style>\n",
       "<table border=\"1\" class=\"dataframe\">\n",
       "  <thead>\n",
       "    <tr style=\"text-align: right;\">\n",
       "      <th></th>\n",
       "      <th>start_year</th>\n",
       "      <th>runtime_minutes</th>\n",
       "      <th>movie_rating</th>\n",
       "      <th>numvotes</th>\n",
       "    </tr>\n",
       "  </thead>\n",
       "  <tbody>\n",
       "    <tr>\n",
       "      <th>count</th>\n",
       "      <td>65720.000000</td>\n",
       "      <td>65720.000000</td>\n",
       "      <td>65720.000000</td>\n",
       "      <td>6.572000e+04</td>\n",
       "    </tr>\n",
       "    <tr>\n",
       "      <th>mean</th>\n",
       "      <td>2014.258065</td>\n",
       "      <td>94.732273</td>\n",
       "      <td>6.320902</td>\n",
       "      <td>3.954674e+03</td>\n",
       "    </tr>\n",
       "    <tr>\n",
       "      <th>std</th>\n",
       "      <td>2.600143</td>\n",
       "      <td>209.377017</td>\n",
       "      <td>1.458878</td>\n",
       "      <td>3.208823e+04</td>\n",
       "    </tr>\n",
       "    <tr>\n",
       "      <th>min</th>\n",
       "      <td>2010.000000</td>\n",
       "      <td>3.000000</td>\n",
       "      <td>1.000000</td>\n",
       "      <td>5.000000e+00</td>\n",
       "    </tr>\n",
       "    <tr>\n",
       "      <th>25%</th>\n",
       "      <td>2012.000000</td>\n",
       "      <td>81.000000</td>\n",
       "      <td>5.500000</td>\n",
       "      <td>1.600000e+01</td>\n",
       "    </tr>\n",
       "    <tr>\n",
       "      <th>50%</th>\n",
       "      <td>2014.000000</td>\n",
       "      <td>91.000000</td>\n",
       "      <td>6.500000</td>\n",
       "      <td>6.200000e+01</td>\n",
       "    </tr>\n",
       "    <tr>\n",
       "      <th>75%</th>\n",
       "      <td>2016.000000</td>\n",
       "      <td>104.000000</td>\n",
       "      <td>7.300000</td>\n",
       "      <td>3.520000e+02</td>\n",
       "    </tr>\n",
       "    <tr>\n",
       "      <th>max</th>\n",
       "      <td>2019.000000</td>\n",
       "      <td>51420.000000</td>\n",
       "      <td>10.000000</td>\n",
       "      <td>1.841066e+06</td>\n",
       "    </tr>\n",
       "  </tbody>\n",
       "</table>\n",
       "</div>"
      ],
      "text/plain": [
       "         start_year  runtime_minutes  movie_rating      numvotes\n",
       "count  65720.000000     65720.000000  65720.000000  6.572000e+04\n",
       "mean    2014.258065        94.732273      6.320902  3.954674e+03\n",
       "std        2.600143       209.377017      1.458878  3.208823e+04\n",
       "min     2010.000000         3.000000      1.000000  5.000000e+00\n",
       "25%     2012.000000        81.000000      5.500000  1.600000e+01\n",
       "50%     2014.000000        91.000000      6.500000  6.200000e+01\n",
       "75%     2016.000000       104.000000      7.300000  3.520000e+02\n",
       "max     2019.000000     51420.000000     10.000000  1.841066e+06"
      ]
     },
     "execution_count": 39,
     "metadata": {},
     "output_type": "execute_result"
    }
   ],
   "source": [
    "df.describe()"
   ]
  },
  {
   "cell_type": "markdown",
   "metadata": {},
   "source": [
    "From this we have a few issues in regards to runtime\n",
    "1. The minimum runtime is 3 minutes which is quite low to meet a movie threshold\n",
    "2. The maximum runtime is 51420 which an extreme value"
   ]
  },
  {
   "cell_type": "code",
   "execution_count": 40,
   "metadata": {},
   "outputs": [
    {
     "name": "stdout",
     "output_type": "stream",
     "text": [
      "The movies within the threshold are: 65365\n"
     ]
    }
   ],
   "source": [
    "# Filtering the values to include a minimum threshold of 20 minutes and 180 minutes \n",
    "clean_runtime = df[(df['runtime_minutes'] >= 20) & (df['runtime_minutes'] <= 180)]\n",
    "sum_of_movies_within_threshold = len(clean_runtime)\n",
    "print('The movies within the threshold are:', sum_of_movies_within_threshold)"
   ]
  },
  {
   "cell_type": "code",
   "execution_count": 41,
   "metadata": {},
   "outputs": [],
   "source": [
    "# Converting the dataframe to drop all values outside the threshold\n",
    "df = df[(df['runtime_minutes'] >= 20) & (df['runtime_minutes'] <= 200)]"
   ]
  },
  {
   "cell_type": "code",
   "execution_count": 42,
   "metadata": {},
   "outputs": [
    {
     "name": "stdout",
     "output_type": "stream",
     "text": [
      "<class 'pandas.core.frame.DataFrame'>\n",
      "RangeIndex: 5782 entries, 0 to 5781\n",
      "Data columns (total 6 columns):\n",
      " #   Column             Non-Null Count  Dtype  \n",
      "---  ------             --------------  -----  \n",
      " 0   id                 5782 non-null   int64  \n",
      " 1   release_date       5782 non-null   object \n",
      " 2   movie              5782 non-null   object \n",
      " 3   production_budget  5782 non-null   float64\n",
      " 4   domestic_gross     5782 non-null   float64\n",
      " 5   worldwide_gross    5782 non-null   float64\n",
      "dtypes: float64(3), int64(1), object(2)\n",
      "memory usage: 271.2+ KB\n"
     ]
    }
   ],
   "source": [
    "budgetDF.info()"
   ]
  },
  {
   "cell_type": "markdown",
   "metadata": {},
   "source": [
    "For the budget dataframe, We have an issue with the release date as its an object and its needed to be in date format"
   ]
  },
  {
   "cell_type": "code",
   "execution_count": 43,
   "metadata": {},
   "outputs": [],
   "source": [
    "#conversion of release date from object to datetime\n",
    "budgetDF['release_date'] = pd.to_datetime(budgetDF['release_date'])"
   ]
  },
  {
   "cell_type": "code",
   "execution_count": 44,
   "metadata": {},
   "outputs": [
    {
     "name": "stdout",
     "output_type": "stream",
     "text": [
      "the start date is 1915-02-08 00:00:00 and the end date is 2020-12-31 00:00:00\n"
     ]
    }
   ],
   "source": [
    "#checking for the duration of info in the budget dataframe\n",
    "start_date = budgetDF['release_date'].min()\n",
    "end_date = budgetDF['release_date'].max()\n",
    "\n",
    "print(f'the start date is {start_date} and the end date is {end_date}')\n"
   ]
  },
  {
   "cell_type": "markdown",
   "metadata": {},
   "source": [
    "From this there a few issues:\n",
    "1. The first date is 1915 which is significantly a long time ago and the film and production industry has changed in one way or another. \n",
    "We will now convert the dataframe to start in the the year 2000 - 2019 which are relevant to the analysis\n",
    "2. 2020 has no gross earnings"
   ]
  },
  {
   "cell_type": "code",
   "execution_count": 45,
   "metadata": {},
   "outputs": [],
   "source": [
    "start_date = pd.to_datetime('2000-1-1 00:00:00')\n",
    "end_date = pd.to_datetime('2019-12-31 00:00:00')\n",
    "budgetDF = budgetDF[(budgetDF['release_date'] >= start_date) & (budgetDF['release_date'] <= end_date)]"
   ]
  },
  {
   "cell_type": "markdown",
   "metadata": {},
   "source": [
    "## 5.0 Explarotary Analysis"
   ]
  },
  {
   "cell_type": "code",
   "execution_count": 46,
   "metadata": {},
   "outputs": [
    {
     "name": "stdout",
     "output_type": "stream",
     "text": [
      "start: 2010\n",
      "stop: 2019\n",
      "durarion: 9 years\n"
     ]
    }
   ],
   "source": [
    "#checking for the year and duration of the release dates in imdb dataset\n",
    "start_date = df['start_year'].min()\n",
    "end_date = df['start_year'].max()\n",
    "period_taken = end_date - start_date\n",
    "\n",
    "print('start:', start_date)\n",
    "print('stop:', end_date)\n",
    "print('durarion:', period_taken,'years')"
   ]
  },
  {
   "cell_type": "code",
   "execution_count": 47,
   "metadata": {},
   "outputs": [
    {
     "name": "stdout",
     "output_type": "stream",
     "text": [
      "The start date is 2000-01-12 00:00:00\n",
      "The end date id 2019-12-31 00:00:00\n",
      "Period of the dataset is 7293 days 00:00:00\n"
     ]
    }
   ],
   "source": [
    "#checking for the duration of info in the budget dataframe\n",
    "start_date = budgetDF['release_date'].min()\n",
    "end_date = budgetDF['release_date'].max()\n",
    "period_taken = end_date -  start_date\n",
    "\n",
    "print('The start date is', start_date)\n",
    "print('The end date id', end_date)\n",
    "print('Period of the dataset is', period_taken)"
   ]
  },
  {
   "cell_type": "markdown",
   "metadata": {},
   "source": [
    "For easier analysis we need to know what rows to use and therefore we will define a function for this"
   ]
  },
  {
   "cell_type": "code",
   "execution_count": 48,
   "metadata": {},
   "outputs": [],
   "source": [
    "#Defining the function\n",
    "def columns(df):\n",
    "    print(df.columns)"
   ]
  },
  {
   "cell_type": "code",
   "execution_count": 49,
   "metadata": {},
   "outputs": [
    {
     "name": "stdout",
     "output_type": "stream",
     "text": [
      "Index(['movie_id', 'primary_title', 'start_year', 'runtime_minutes', 'genres',\n",
      "       'movie_rating', 'numvotes'],\n",
      "      dtype='object')\n"
     ]
    }
   ],
   "source": [
    "columns(df)"
   ]
  },
  {
   "cell_type": "markdown",
   "metadata": {},
   "source": [
    "5.1 Univariate Analysis"
   ]
  },
  {
   "cell_type": "code",
   "execution_count": 50,
   "metadata": {},
   "outputs": [
    {
     "data": {
      "text/plain": [
       "count          65449\n",
       "unique         62195\n",
       "top       The Return\n",
       "freq              10\n",
       "Name: primary_title, dtype: object"
      ]
     },
     "execution_count": 50,
     "metadata": {},
     "output_type": "execute_result"
    }
   ],
   "source": [
    "df['primary_title'].describe()"
   ]
  },
  {
   "cell_type": "code",
   "execution_count": 51,
   "metadata": {},
   "outputs": [
    {
     "data": {
      "text/plain": [
       "count     65449\n",
       "unique      905\n",
       "top       Drama\n",
       "freq      10160\n",
       "Name: genres, dtype: object"
      ]
     },
     "execution_count": 51,
     "metadata": {},
     "output_type": "execute_result"
    }
   ],
   "source": [
    "#Checking for the most common genre\n",
    "df['genres'].describe()\n"
   ]
  },
  {
   "cell_type": "code",
   "execution_count": 52,
   "metadata": {},
   "outputs": [
    {
     "data": {
      "text/plain": [
       "Drama                        10160\n",
       "Documentary                   9031\n",
       "Comedy                        4601\n",
       "Comedy,Drama                  2449\n",
       "Horror                        2230\n",
       "                             ...  \n",
       "Documentary,News,Sport           1\n",
       "Documentary,Drama,Western        1\n",
       "Crime,Documentary,Fantasy        1\n",
       "Adventure,Family,Musical         1\n",
       "Drama,Family,News                1\n",
       "Name: genres, Length: 905, dtype: int64"
      ]
     },
     "execution_count": 52,
     "metadata": {},
     "output_type": "execute_result"
    }
   ],
   "source": [
    "df['genres'].value_counts()"
   ]
  },
  {
   "cell_type": "code",
   "execution_count": 53,
   "metadata": {},
   "outputs": [
    {
     "name": "stdout",
     "output_type": "stream",
     "text": [
      "Index(['id', 'release_date', 'movie', 'production_budget', 'domestic_gross',\n",
      "       'worldwide_gross'],\n",
      "      dtype='object')\n"
     ]
    }
   ],
   "source": [
    "columns(budgetDF)"
   ]
  },
  {
   "cell_type": "code",
   "execution_count": 54,
   "metadata": {},
   "outputs": [
    {
     "data": {
      "text/plain": [
       "count     4384\n",
       "unique    4361\n",
       "top       Home\n",
       "freq         3\n",
       "Name: movie, dtype: object"
      ]
     },
     "execution_count": 54,
     "metadata": {},
     "output_type": "execute_result"
    }
   ],
   "source": [
    "budgetDF['movie'].describe()"
   ]
  },
  {
   "cell_type": "markdown",
   "metadata": {},
   "source": [
    "5.2 Bivariate Analysis"
   ]
  },
  {
   "cell_type": "markdown",
   "metadata": {},
   "source": [
    "How has the average movie runtime changed over the years?"
   ]
  },
  {
   "cell_type": "code",
   "execution_count": 55,
   "metadata": {},
   "outputs": [
    {
     "name": "stdout",
     "output_type": "stream",
     "text": [
      "Index(['movie_id', 'primary_title', 'start_year', 'runtime_minutes', 'genres',\n",
      "       'movie_rating', 'numvotes'],\n",
      "      dtype='object')\n"
     ]
    }
   ],
   "source": [
    "#We first preview all columns to know which one to work with\n",
    "columns(df)"
   ]
  },
  {
   "cell_type": "code",
   "execution_count": 56,
   "metadata": {},
   "outputs": [
    {
     "name": "stdout",
     "output_type": "stream",
     "text": [
      "start_year\n",
      "2010    92.084137\n",
      "2011    91.889349\n",
      "2012    91.508410\n",
      "2013    92.235916\n",
      "2014    93.131877\n",
      "2015    93.167301\n",
      "2016    93.576630\n",
      "2017    94.554109\n",
      "2018    96.542604\n",
      "2019    99.883565\n",
      "Name: runtime_minutes, dtype: float64\n"
     ]
    }
   ],
   "source": [
    "#Checking for the average movie runtime through the years\n",
    "runtime_changes_over_years = df.groupby('start_year')['runtime_minutes'].mean()\n",
    "print(runtime_changes_over_years)"
   ]
  },
  {
   "cell_type": "code",
   "execution_count": 57,
   "metadata": {},
   "outputs": [
    {
     "data": {
      "image/png": "[encoded data removed]",
      "text/plain": [
       "<Figure size 864x720 with 1 Axes>"
      ]
     },
     "metadata": {
      "needs_background": "light"
     },
     "output_type": "display_data"
    }
   ],
   "source": [
    "#To visualize the average runtime through the years\n",
    "plt.figure(figsize=(12,10))\n",
    "sns.barplot(x='start_year', y='runtime_minutes', data=df)\n",
    "plt.title('Average running time through years')\n",
    "plt.xlabel('Start Year')\n",
    "plt.ylabel('Runtime (minutes)')\n",
    "plt.show()"
   ]
  },
  {
   "cell_type": "markdown",
   "metadata": {},
   "source": [
    "This shows that the average runtime for movies from 2010 -2019 has been 90 minutes. This implies that the ideal running time for a film is 90 minutes."
   ]
  },
  {
   "cell_type": "markdown",
   "metadata": {},
   "source": [
    "Checking the number of movies produced in a year"
   ]
  },
  {
   "cell_type": "code",
   "execution_count": 58,
   "metadata": {},
   "outputs": [
    {
     "name": "stdout",
     "output_type": "stream",
     "text": [
      "Index(['movie_id', 'primary_title', 'start_year', 'runtime_minutes', 'genres',\n",
      "       'movie_rating', 'numvotes'],\n",
      "      dtype='object')\n"
     ]
    }
   ],
   "source": [
    "columns(df)"
   ]
  },
  {
   "cell_type": "code",
   "execution_count": 59,
   "metadata": {},
   "outputs": [
    {
     "data": {
      "text/plain": [
       "2016    7745\n",
       "2017    7679\n",
       "2015    7621\n",
       "2014    7507\n",
       "2013    7189\n",
       "2012    6837\n",
       "2018    6537\n",
       "2011    6525\n",
       "2010    6014\n",
       "2019    1795\n",
       "Name: start_year, dtype: int64"
      ]
     },
     "execution_count": 59,
     "metadata": {},
     "output_type": "execute_result"
    }
   ],
   "source": [
    "#checking for the count of movies produced each year\n",
    "df['start_year'].value_counts()"
   ]
  },
  {
   "cell_type": "code",
   "execution_count": 60,
   "metadata": {},
   "outputs": [
    {
     "data": {
      "image/png": "[encoded data removed]",
      "text/plain": [
       "<Figure size 864x720 with 1 Axes>"
      ]
     },
     "metadata": {
      "needs_background": "light"
     },
     "output_type": "display_data"
    }
   ],
   "source": [
    "#To visualize this movies produced through the years\n",
    "plt.figure(figsize=(12,10))\n",
    "sns.countplot(x='start_year',data=df)\n",
    "plt.xlabel('Years')\n",
    "plt.ylabel('Movies produced')\n",
    "plt.show()\n"
   ]
  },
  {
   "cell_type": "markdown",
   "metadata": {},
   "source": [
    "From this countplot we see that in the year 2019 the production of films significantly reduced"
   ]
  },
  {
   "cell_type": "markdown",
   "metadata": {},
   "source": [
    "Analyzing the distribution between Genres and Runtime"
   ]
  },
  {
   "cell_type": "code",
   "execution_count": 61,
   "metadata": {},
   "outputs": [
    {
     "name": "stdout",
     "output_type": "stream",
     "text": [
      "Index(['movie_id', 'primary_title', 'start_year', 'runtime_minutes', 'genres',\n",
      "       'movie_rating', 'numvotes'],\n",
      "      dtype='object')\n"
     ]
    }
   ],
   "source": [
    "#We first preview columns to know which columns to work with\n",
    "columns(df)"
   ]
  },
  {
   "cell_type": "code",
   "execution_count": 62,
   "metadata": {},
   "outputs": [
    {
     "data": {
      "text/html": [
       "<div>\n",
       "<style scoped>\n",
       "    .dataframe tbody tr th:only-of-type {\n",
       "        vertical-align: middle;\n",
       "    }\n",
       "\n",
       "    .dataframe tbody tr th {\n",
       "        vertical-align: top;\n",
       "    }\n",
       "\n",
       "    .dataframe thead th {\n",
       "        text-align: right;\n",
       "    }\n",
       "</style>\n",
       "<table border=\"1\" class=\"dataframe\">\n",
       "  <thead>\n",
       "    <tr style=\"text-align: right;\">\n",
       "      <th></th>\n",
       "      <th>runtime_minutes</th>\n",
       "      <th>genres</th>\n",
       "    </tr>\n",
       "    <tr>\n",
       "      <th>primary_title</th>\n",
       "      <th></th>\n",
       "      <th></th>\n",
       "    </tr>\n",
       "  </thead>\n",
       "  <tbody>\n",
       "    <tr>\n",
       "      <th>The Last Pogo Jumps Again</th>\n",
       "      <td>200.0</td>\n",
       "      <td>Documentary,Music</td>\n",
       "    </tr>\n",
       "    <tr>\n",
       "      <th>Sadiyaan: Boundaries Divide... Love Unites</th>\n",
       "      <td>200.0</td>\n",
       "      <td>Drama,Romance</td>\n",
       "    </tr>\n",
       "    <tr>\n",
       "      <th>Dickshark</th>\n",
       "      <td>200.0</td>\n",
       "      <td>Comedy,Sci-Fi</td>\n",
       "    </tr>\n",
       "    <tr>\n",
       "      <th>National Theatre Live: Jane Eyre</th>\n",
       "      <td>200.0</td>\n",
       "      <td>Drama</td>\n",
       "    </tr>\n",
       "    <tr>\n",
       "      <th>Walk in My Shoes</th>\n",
       "      <td>200.0</td>\n",
       "      <td>Drama</td>\n",
       "    </tr>\n",
       "    <tr>\n",
       "      <th>Jai Bhim Comrade</th>\n",
       "      <td>199.0</td>\n",
       "      <td>Documentary</td>\n",
       "    </tr>\n",
       "    <tr>\n",
       "      <th>Tmár a jeho rod aneb Slzavé údolí pyramid</th>\n",
       "      <td>199.0</td>\n",
       "      <td>Documentary,Mystery</td>\n",
       "    </tr>\n",
       "    <tr>\n",
       "      <th>National Theatre Live: Othello</th>\n",
       "      <td>198.0</td>\n",
       "      <td>Drama</td>\n",
       "    </tr>\n",
       "    <tr>\n",
       "      <th>0.5 Mm</th>\n",
       "      <td>198.0</td>\n",
       "      <td>Drama</td>\n",
       "    </tr>\n",
       "    <tr>\n",
       "      <th>Avunu Part 2</th>\n",
       "      <td>198.0</td>\n",
       "      <td>Horror,Thriller</td>\n",
       "    </tr>\n",
       "  </tbody>\n",
       "</table>\n",
       "</div>"
      ],
      "text/plain": [
       "                                            runtime_minutes  \\\n",
       "primary_title                                                 \n",
       "The Last Pogo Jumps Again                             200.0   \n",
       "Sadiyaan: Boundaries Divide... Love Unites            200.0   \n",
       "Dickshark                                             200.0   \n",
       "National Theatre Live: Jane Eyre                      200.0   \n",
       "Walk in My Shoes                                      200.0   \n",
       "Jai Bhim Comrade                                      199.0   \n",
       "Tmár a jeho rod aneb Slzavé údolí pyramid             199.0   \n",
       "National Theatre Live: Othello                        198.0   \n",
       "0.5 Mm                                                198.0   \n",
       "Avunu Part 2                                          198.0   \n",
       "\n",
       "                                                         genres  \n",
       "primary_title                                                    \n",
       "The Last Pogo Jumps Again                     Documentary,Music  \n",
       "Sadiyaan: Boundaries Divide... Love Unites        Drama,Romance  \n",
       "Dickshark                                         Comedy,Sci-Fi  \n",
       "National Theatre Live: Jane Eyre                          Drama  \n",
       "Walk in My Shoes                                          Drama  \n",
       "Jai Bhim Comrade                                    Documentary  \n",
       "Tmár a jeho rod aneb Slzavé údolí pyramid   Documentary,Mystery  \n",
       "National Theatre Live: Othello                            Drama  \n",
       "0.5 Mm                                                    Drama  \n",
       "Avunu Part 2                                    Horror,Thriller  "
      ]
     },
     "execution_count": 62,
     "metadata": {},
     "output_type": "execute_result"
    }
   ],
   "source": [
    "#Checking for the the first 10 movies with the highest runtimes and their genres\n",
    "top_10_runtime = df.nlargest(10,'runtime_minutes')[['primary_title','runtime_minutes','genres']].set_index('primary_title')\n",
    "top_10_runtime"
   ]
  },
  {
   "cell_type": "code",
   "execution_count": 63,
   "metadata": {},
   "outputs": [
    {
     "data": {
      "image/png": "[encoded data removed]",
      "text/plain": [
       "<Figure size 1152x720 with 1 Axes>"
      ]
     },
     "metadata": {
      "needs_background": "light"
     },
     "output_type": "display_data"
    }
   ],
   "source": [
    "#To visualize the distrubution of runtimes in relation to genres\n",
    "plt.figure(figsize=(16,10))\n",
    "df['genre'] = df['genres'].str.split(',').str[0].str.strip()\n",
    "sns.boxplot(data=df, x='genre', y='runtime_minutes', palette='Set2',showfliers = False)\n",
    "plt.xlabel('Genre')\n",
    "plt.ylabel('Runtime (minutes)')\n",
    "plt.title('Box Plot of Runtimes by Genre')\n",
    "plt.xticks(rotation=45)\n",
    "plt.show()\n"
   ]
  },
  {
   "cell_type": "markdown",
   "metadata": {},
   "source": [
    "From this boxplot,it is evident that reality TV has higher run times compared to the other genres"
   ]
  },
  {
   "cell_type": "markdown",
   "metadata": {},
   "source": [
    "2.1.4 Checking for the distribution of ratings and genres through the years"
   ]
  },
  {
   "cell_type": "code",
   "execution_count": 64,
   "metadata": {},
   "outputs": [
    {
     "name": "stdout",
     "output_type": "stream",
     "text": [
      "Index(['movie_id', 'primary_title', 'start_year', 'runtime_minutes', 'genres',\n",
      "       'movie_rating', 'numvotes', 'genre'],\n",
      "      dtype='object')\n"
     ]
    }
   ],
   "source": [
    "#We first preview columns to know which columns to work with\n",
    "columns(df)"
   ]
  },
  {
   "cell_type": "code",
   "execution_count": 65,
   "metadata": {},
   "outputs": [
    {
     "data": {
      "text/html": [
       "<div>\n",
       "<style scoped>\n",
       "    .dataframe tbody tr th:only-of-type {\n",
       "        vertical-align: middle;\n",
       "    }\n",
       "\n",
       "    .dataframe tbody tr th {\n",
       "        vertical-align: top;\n",
       "    }\n",
       "\n",
       "    .dataframe thead th {\n",
       "        text-align: right;\n",
       "    }\n",
       "</style>\n",
       "<table border=\"1\" class=\"dataframe\">\n",
       "  <thead>\n",
       "    <tr style=\"text-align: right;\">\n",
       "      <th></th>\n",
       "      <th>movie_rating</th>\n",
       "      <th>genres</th>\n",
       "    </tr>\n",
       "    <tr>\n",
       "      <th>primary_title</th>\n",
       "      <th></th>\n",
       "      <th></th>\n",
       "    </tr>\n",
       "  </thead>\n",
       "  <tbody>\n",
       "    <tr>\n",
       "      <th>Exteriores: Mulheres Brasileiras na Diplomacia</th>\n",
       "      <td>10.0</td>\n",
       "      <td>Documentary</td>\n",
       "    </tr>\n",
       "    <tr>\n",
       "      <th>The Dark Knight: The Ballad of the N Word</th>\n",
       "      <td>10.0</td>\n",
       "      <td>Comedy,Drama</td>\n",
       "    </tr>\n",
       "    <tr>\n",
       "      <th>Freeing Bernie Baran</th>\n",
       "      <td>10.0</td>\n",
       "      <td>Crime,Documentary</td>\n",
       "    </tr>\n",
       "    <tr>\n",
       "      <th>Hercule contre Hermès</th>\n",
       "      <td>10.0</td>\n",
       "      <td>Documentary</td>\n",
       "    </tr>\n",
       "    <tr>\n",
       "      <th>I Was Born Yesterday!</th>\n",
       "      <td>10.0</td>\n",
       "      <td>Documentary</td>\n",
       "    </tr>\n",
       "    <tr>\n",
       "      <th>Revolution Food</th>\n",
       "      <td>10.0</td>\n",
       "      <td>Documentary</td>\n",
       "    </tr>\n",
       "    <tr>\n",
       "      <th>Fly High: Story of the Disc Dog</th>\n",
       "      <td>10.0</td>\n",
       "      <td>Documentary</td>\n",
       "    </tr>\n",
       "    <tr>\n",
       "      <th>The Paternal Bond: Barbary Macaques</th>\n",
       "      <td>10.0</td>\n",
       "      <td>Documentary</td>\n",
       "    </tr>\n",
       "    <tr>\n",
       "      <th>Requiem voor een Boom</th>\n",
       "      <td>10.0</td>\n",
       "      <td>Documentary</td>\n",
       "    </tr>\n",
       "    <tr>\n",
       "      <th>A Dedicated Life: Phoebe Brand Beyond the Group</th>\n",
       "      <td>10.0</td>\n",
       "      <td>Documentary</td>\n",
       "    </tr>\n",
       "  </tbody>\n",
       "</table>\n",
       "</div>"
      ],
      "text/plain": [
       "                                                 movie_rating  \\\n",
       "primary_title                                                   \n",
       "Exteriores: Mulheres Brasileiras na Diplomacia           10.0   \n",
       "The Dark Knight: The Ballad of the N Word                10.0   \n",
       "Freeing Bernie Baran                                     10.0   \n",
       "Hercule contre Hermès                                    10.0   \n",
       "I Was Born Yesterday!                                    10.0   \n",
       "Revolution Food                                          10.0   \n",
       "Fly High: Story of the Disc Dog                          10.0   \n",
       "The Paternal Bond: Barbary Macaques                      10.0   \n",
       "Requiem voor een Boom                                    10.0   \n",
       "A Dedicated Life: Phoebe Brand Beyond the Group          10.0   \n",
       "\n",
       "                                                            genres  \n",
       "primary_title                                                       \n",
       "Exteriores: Mulheres Brasileiras na Diplomacia         Documentary  \n",
       "The Dark Knight: The Ballad of the N Word             Comedy,Drama  \n",
       "Freeing Bernie Baran                             Crime,Documentary  \n",
       "Hercule contre Hermès                                  Documentary  \n",
       "I Was Born Yesterday!                                  Documentary  \n",
       "Revolution Food                                        Documentary  \n",
       "Fly High: Story of the Disc Dog                        Documentary  \n",
       "The Paternal Bond: Barbary Macaques                    Documentary  \n",
       "Requiem voor een Boom                                  Documentary  \n",
       "A Dedicated Life: Phoebe Brand Beyond the Group        Documentary  "
      ]
     },
     "execution_count": 65,
     "metadata": {},
     "output_type": "execute_result"
    }
   ],
   "source": [
    "#Checking for the the first 10 movies with the highest runtimes and their genres\n",
    "top_10_ratings = df.nlargest(10,'movie_rating')[['primary_title','movie_rating','genres']].set_index('primary_title')\n",
    "top_10_ratings"
   ]
  },
  {
   "cell_type": "markdown",
   "metadata": {},
   "source": [
    "From the top 10 top rated movies, documentaries is the top rated genre"
   ]
  },
  {
   "cell_type": "code",
   "execution_count": 66,
   "metadata": {},
   "outputs": [
    {
     "data": {
      "image/png": "[encoded data removed]",
      "text/plain": [
       "<Figure size 1152x720 with 1 Axes>"
      ]
     },
     "metadata": {
      "needs_background": "light"
     },
     "output_type": "display_data"
    }
   ],
   "source": [
    "#To visualize the relationship between genres and their ratings\n",
    "plt.figure(figsize=(16,10))\n",
    "df['genre'] = df['genres'].str.split(',').str[0].str.strip()\n",
    "sns.boxplot(data=df, x='genre', y='movie_rating', palette='Set1',showfliers=False)\n",
    "plt.xlabel('Genre')\n",
    "plt.ylabel('Movie Ratings')\n",
    "plt.title('Box Plot of ratings by Genre')\n",
    "plt.xticks(rotation=90)\n",
    "plt.show()"
   ]
  },
  {
   "cell_type": "markdown",
   "metadata": {},
   "source": [
    "From this boxplot, music movies have a higher average rating than the other genres "
   ]
  },
  {
   "cell_type": "markdown",
   "metadata": {},
   "source": [
    "2.1.5 Checking for the year with the highest average gross earnings"
   ]
  },
  {
   "cell_type": "code",
   "execution_count": 67,
   "metadata": {},
   "outputs": [
    {
     "data": {
      "text/plain": [
       "Index(['id', 'release_date', 'movie', 'production_budget', 'domestic_gross',\n",
       "       'worldwide_gross'],\n",
       "      dtype='object')"
      ]
     },
     "execution_count": 67,
     "metadata": {},
     "output_type": "execute_result"
    }
   ],
   "source": [
    "#We first preview columns to know which columns to work with\n",
    "budgetDF.columns"
   ]
  },
  {
   "cell_type": "markdown",
   "metadata": {},
   "source": [
    "The release date is inclusive of date and month and for this we just want the years. We will convert the release date to years only"
   ]
  },
  {
   "cell_type": "code",
   "execution_count": 68,
   "metadata": {},
   "outputs": [
    {
     "name": "stderr",
     "output_type": "stream",
     "text": [
      "<ipython-input-68-13c939025b43>:2: SettingWithCopyWarning: \n",
      "A value is trying to be set on a copy of a slice from a DataFrame.\n",
      "Try using .loc[row_indexer,col_indexer] = value instead\n",
      "\n",
      "See the caveats in the documentation: https://pandas.pydata.org/pandas-docs/stable/user_guide/indexing.html#returning-a-view-versus-a-copy\n",
      "  budgetDF['release_date'] = budgetDF['release_date'].dt.year\n"
     ]
    }
   ],
   "source": [
    "#conversion to years\n",
    "budgetDF['release_date'] = budgetDF['release_date'].dt.year"
   ]
  },
  {
   "cell_type": "code",
   "execution_count": 69,
   "metadata": {},
   "outputs": [
    {
     "name": "stdout",
     "output_type": "stream",
     "text": [
      "release_date\n",
      "2018    1.824786e+08\n",
      "2017    1.692240e+08\n",
      "2016    1.313614e+08\n",
      "2012    1.156729e+08\n",
      "2013    1.107553e+08\n",
      "2009    1.003943e+08\n",
      "2019    9.965411e+07\n",
      "2014    9.911344e+07\n",
      "2011    9.714671e+07\n",
      "2004    8.924908e+07\n",
      "2010    8.843764e+07\n",
      "2007    8.641767e+07\n",
      "2015    8.225145e+07\n",
      "2003    8.209727e+07\n",
      "2008    8.155407e+07\n",
      "2001    8.096845e+07\n",
      "2005    7.888583e+07\n",
      "2002    7.822510e+07\n",
      "2006    7.163864e+07\n",
      "2000    6.891062e+07\n",
      "Name: worldwide_gross, dtype: float64\n"
     ]
    }
   ],
   "source": [
    "#Checking for the average earnings of movies through the years\n",
    "average_earnings = budgetDF.groupby('release_date')['worldwide_gross'].mean().sort_values(ascending=False)\n",
    "print(average_earnings)"
   ]
  },
  {
   "cell_type": "code",
   "execution_count": 70,
   "metadata": {},
   "outputs": [
    {
     "data": {
      "image/png": "[encoded data removed]",
      "text/plain": [
       "<Figure size 864x720 with 1 Axes>"
      ]
     },
     "metadata": {
      "needs_background": "light"
     },
     "output_type": "display_data"
    }
   ],
   "source": [
    "#To visualize the earnings throughout the years\n",
    "plt.figure(figsize=(12,10))\n",
    "sns.barplot(x='release_date', y='worldwide_gross',data=budgetDF)\n",
    "plt.title('Worldwide Earnings 2000 - 2020')\n",
    "plt.show()"
   ]
  },
  {
   "cell_type": "markdown",
   "metadata": {},
   "source": [
    "2.1.6 Checking for correlation between budget and worldwide income"
   ]
  },
  {
   "cell_type": "code",
   "execution_count": 71,
   "metadata": {},
   "outputs": [
    {
     "name": "stdout",
     "output_type": "stream",
     "text": [
      "Index(['id', 'release_date', 'movie', 'production_budget', 'domestic_gross',\n",
      "       'worldwide_gross'],\n",
      "      dtype='object')\n"
     ]
    }
   ],
   "source": [
    "#We first preview columns to know which columns to work with\n",
    "columns(budgetDF)"
   ]
  },
  {
   "cell_type": "code",
   "execution_count": 72,
   "metadata": {},
   "outputs": [
    {
     "data": {
      "image/png": "[encoded data removed]",
      "text/plain": [
       "<Figure size 864x720 with 1 Axes>"
      ]
     },
     "metadata": {
      "needs_background": "light"
     },
     "output_type": "display_data"
    }
   ],
   "source": [
    "#To visualize the correlation between budget and revenue\n",
    "plt.figure(figsize=(12,10))\n",
    "sns.scatterplot(x='production_budget', y='worldwide_gross', data=budgetDF)\n",
    "plt.title('A postive Correlation btwn budget and revenue')\n",
    "plt.xlabel('Production Budget')\n",
    "plt.ylabel('Worldwide Gross')\n",
    "plt.tight_layout()\n",
    "plt.show()\n"
   ]
  },
  {
   "cell_type": "markdown",
   "metadata": {},
   "source": [
    "From the scatter plot, theres a positive relationship between the budget. This implies that the higher budgeted for films end up having a higher returns"
   ]
  },
  {
   "cell_type": "markdown",
   "metadata": {},
   "source": [
    "## Summary"
   ]
  },
  {
   "cell_type": "markdown",
   "metadata": {},
   "source": [
    "Below is a summary of the Analysis:\n",
    "\n",
    "1. Enhanced Data Quality Assessment:\n",
    "By addressing missing values, duplicates, and inconsistencies, we have significantly improved the reliability and overall quality of the sales data.\n",
    "These data enhancements make the dataset more suitable and dependable for subsequent analyses.\n",
    "\n",
    "2. Evaluated Data Completeness:\n",
    "We've evaluated the degree of data completeness by determining the percentage of missing values in each column and subsequently taking appropriate actions, including data deletion where necessary.\n",
    "\n",
    "3. Ensured Data Integrity:\n",
    "We've identified and rectified data integrity issues such as negative Nan values.\n",
    "Inaccurate or implausible data points have been either removed from the dataset or corrected, contributing to the overall integrity of the data.\n",
    "\n",
    "4. Refined Data Types:\n",
    "A thorough review of data types has been conducted, and necessary adjustments have been made.\n",
    "Dates have been converted into datetime objects to facilitate time-based analyses.\n",
    "Production budget, domestic gross and worldwide gross have been converted to float for mathematical computations.\n",
    "\n",
    "5. Derived Descriptive Statistics:\n",
    "We've computed descriptive statistics to provide a proper summary of essential dataset attributes.\n",
    "These statistics include measures of central tendency (mean, median, mode) and measures of data dispersion (range, standard deviation), offering valuable insights into the dataset's characteristics.\n",
    "\n",
    "6. Optimal Movie Runtime:\n",
    "The average runtime for successful movies has consistently hovered around 90 minutes, indicating that this runtime is preferred by audiences. \n",
    "\n",
    "7. Genre and median ratings\n",
    "Music-related movies, on average, achieve higher median ratings. Microsoft can consider exploring more music-related genres, but it's important to validate the demand through market research. \n",
    "\n",
    "8. Steady Investment Strategy\n",
    "The data reveals a stable trend in average income per movie, with most years showing earnings around $96 million. This suggests that Microsoft should maintain a steady and sustainable investment in movie production.\n",
    "\n",
    "9. Production budget and revenue correlation\n",
    "A positive correlation exists between production budgets and worldwide gross revenue, indicating that higher budgets tend to yield higher returns"
   ]
  },
  {
   "cell_type": "markdown",
   "metadata": {},
   "source": [
    "## Recommendations"
   ]
  },
  {
   "cell_type": "markdown",
   "metadata": {},
   "source": [
    "Based on my findings, I would recommend the following to Microsoft:\n",
    "1. Optimal Movie Runtime:\n",
    "Consider targeting an average runtime of around 90 minutes for your movies, as this has been the historical average. This duration tends to align with audience preferences and can optimize viewer engagement.\n",
    "\n",
    "2. Genre Selection:\n",
    "Given that music movies have a higher median rating, consider producing or investing in music-related films as they have a better chance of receiving favorable ratings from viewers. However, also explore other genres that align with your studio's vision and capabilities.\n",
    "\n",
    "3. Budget and Revenue:\n",
    "Recognize the positive correlation between production budget and worldwide gross revenue. While investing more in a movie may lead to higher returns, be cautious and conduct thorough financial analysis and risk assessment for high-budget productions. Consider a balanced portfolio of both high and low-budget films to mitigate risk.\n",
    "\n",
    "4. Steady Investment:\n",
    " Given that the average income per movie has been relatively stable for most years (around $96 million), Microsoft should plan for a steady investment in movie production to maintain consistent revenue. This can involve setting an annual budget for movie production.\n",
    "\n",
    "5. Diversify Portfolio: \n",
    "As evident, movie production took a downward trend in 2019. I would recommend considering diversifying the movie portfolio to mitigate risks associated with fluctuations in movie production. Instead of relying heavily on a single year's output, aim for a more balanced and sustainable production strategy."
   ]
  }
 ],
 "metadata": {
  "kernelspec": {
   "display_name": "learn-env",
   "language": "python",
   "name": "python3"
  },
  "language_info": {
   "codemirror_mode": {
    "name": "ipython",
    "version": 3
   },
   "file_extension": ".py",
   "mimetype": "text/x-python",
   "name": "python",
   "nbconvert_exporter": "python",
   "pygments_lexer": "ipython3",
   "version": "3.8.5"
  },
  "orig_nbformat": 4
 },
 "nbformat": 4,
 "nbformat_minor": 2
}
